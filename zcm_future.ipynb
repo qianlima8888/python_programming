{
 "metadata": {
  "language_info": {
   "codemirror_mode": {
    "name": "ipython",
    "version": 3
   },
   "file_extension": ".py",
   "mimetype": "text/x-python",
   "name": "python",
   "nbconvert_exporter": "python",
   "pygments_lexer": "ipython3",
   "version": "3.8.3-final"
  },
  "orig_nbformat": 2,
  "kernelspec": {
   "name": "python38364bitb53b57278dea47a68be6fb9bff699ba7",
   "display_name": "Python 3.8.3 64-bit",
   "language": "python"
  }
 },
 "nbformat": 4,
 "nbformat_minor": 2,
 "cells": [
  {
   "cell_type": "code",
   "execution_count": 27,
   "metadata": {},
   "outputs": [],
   "source": [
    "from jqdatasdk import *\n",
    "import pandas as pd"
   ]
  },
  {
   "cell_type": "code",
   "execution_count": 4,
   "metadata": {},
   "outputs": [
    {
     "output_type": "stream",
     "name": "stdout",
     "text": [
      "auth success \n"
     ]
    }
   ],
   "source": [
    "auth('15918636606', 'Ucb16697')"
   ]
  },
  {
   "cell_type": "code",
   "execution_count": 29,
   "metadata": {},
   "outputs": [],
   "source": [
    "df1 = get_price('TC9999.XZCE', start_date='2013-09-27', end_date='2016-03-08', frequency='daily', fields=['open', 'close'])"
   ]
  },
  {
   "cell_type": "code",
   "execution_count": 30,
   "metadata": {},
   "outputs": [
    {
     "output_type": "execute_result",
     "data": {
      "text/plain": [
       "             open  close\n",
       "2013-09-27  535.8  546.6\n",
       "2013-09-30  545.0  555.0\n",
       "2013-10-08  555.0  547.4\n",
       "2013-10-09  546.4  547.0\n",
       "2013-10-10  545.6  547.4\n",
       "...           ...    ...\n",
       "2016-02-23  308.2  308.2\n",
       "2016-02-26  320.4  320.4\n",
       "2016-03-03  313.0  313.0\n",
       "2016-03-04  313.2  313.2\n",
       "2016-03-08  322.0  322.0\n",
       "\n",
       "[566 rows x 2 columns]"
      ],
      "text/html": "<div>\n<style scoped>\n    .dataframe tbody tr th:only-of-type {\n        vertical-align: middle;\n    }\n\n    .dataframe tbody tr th {\n        vertical-align: top;\n    }\n\n    .dataframe thead th {\n        text-align: right;\n    }\n</style>\n<table border=\"1\" class=\"dataframe\">\n  <thead>\n    <tr style=\"text-align: right;\">\n      <th></th>\n      <th>open</th>\n      <th>close</th>\n    </tr>\n  </thead>\n  <tbody>\n    <tr>\n      <th>2013-09-27</th>\n      <td>535.8</td>\n      <td>546.6</td>\n    </tr>\n    <tr>\n      <th>2013-09-30</th>\n      <td>545.0</td>\n      <td>555.0</td>\n    </tr>\n    <tr>\n      <th>2013-10-08</th>\n      <td>555.0</td>\n      <td>547.4</td>\n    </tr>\n    <tr>\n      <th>2013-10-09</th>\n      <td>546.4</td>\n      <td>547.0</td>\n    </tr>\n    <tr>\n      <th>2013-10-10</th>\n      <td>545.6</td>\n      <td>547.4</td>\n    </tr>\n    <tr>\n      <th>...</th>\n      <td>...</td>\n      <td>...</td>\n    </tr>\n    <tr>\n      <th>2016-02-23</th>\n      <td>308.2</td>\n      <td>308.2</td>\n    </tr>\n    <tr>\n      <th>2016-02-26</th>\n      <td>320.4</td>\n      <td>320.4</td>\n    </tr>\n    <tr>\n      <th>2016-03-03</th>\n      <td>313.0</td>\n      <td>313.0</td>\n    </tr>\n    <tr>\n      <th>2016-03-04</th>\n      <td>313.2</td>\n      <td>313.2</td>\n    </tr>\n    <tr>\n      <th>2016-03-08</th>\n      <td>322.0</td>\n      <td>322.0</td>\n    </tr>\n  </tbody>\n</table>\n<p>566 rows × 2 columns</p>\n</div>"
     },
     "metadata": {},
     "execution_count": 30
    }
   ],
   "source": [
    "df1.drop_duplicates()"
   ]
  },
  {
   "cell_type": "code",
   "execution_count": 34,
   "metadata": {},
   "outputs": [],
   "source": [
    "df2 = get_price('ZC9999.XZCE', start_date='2020-05-15', end_date='2020-05-19', frequency='daily', fields=['open', 'close'])"
   ]
  },
  {
   "cell_type": "code",
   "execution_count": 35,
   "metadata": {},
   "outputs": [
    {
     "output_type": "execute_result",
     "data": {
      "text/plain": [
       "             open  close\n",
       "2020-05-15  526.2  522.4\n",
       "2020-05-18  524.0  531.6\n",
       "2020-05-19  534.6  539.8"
      ],
      "text/html": "<div>\n<style scoped>\n    .dataframe tbody tr th:only-of-type {\n        vertical-align: middle;\n    }\n\n    .dataframe tbody tr th {\n        vertical-align: top;\n    }\n\n    .dataframe thead th {\n        text-align: right;\n    }\n</style>\n<table border=\"1\" class=\"dataframe\">\n  <thead>\n    <tr style=\"text-align: right;\">\n      <th></th>\n      <th>open</th>\n      <th>close</th>\n    </tr>\n  </thead>\n  <tbody>\n    <tr>\n      <th>2020-05-15</th>\n      <td>526.2</td>\n      <td>522.4</td>\n    </tr>\n    <tr>\n      <th>2020-05-18</th>\n      <td>524.0</td>\n      <td>531.6</td>\n    </tr>\n    <tr>\n      <th>2020-05-19</th>\n      <td>534.6</td>\n      <td>539.8</td>\n    </tr>\n  </tbody>\n</table>\n</div>"
     },
     "metadata": {},
     "execution_count": 35
    }
   ],
   "source": [
    "df2.drop_duplicates()"
   ]
  },
  {
   "cell_type": "code",
   "execution_count": 33,
   "metadata": {},
   "outputs": [
    {
     "output_type": "execute_result",
     "data": {
      "text/plain": [
       "             open  close\n",
       "2013-09-27  535.8  546.6\n",
       "2013-09-30  545.0  555.0\n",
       "2013-10-08  555.0  547.4\n",
       "2013-10-09  546.4  547.0\n",
       "2013-10-10  545.6  547.4\n",
       "...           ...    ...\n",
       "2020-12-14  742.2  730.2\n",
       "2020-12-15  730.0  721.0\n",
       "2020-12-16  719.8  714.8\n",
       "2020-12-17  674.8  689.8\n",
       "2020-12-18  693.2  707.4\n",
       "\n",
       "[1761 rows x 2 columns]"
      ],
      "text/html": "<div>\n<style scoped>\n    .dataframe tbody tr th:only-of-type {\n        vertical-align: middle;\n    }\n\n    .dataframe tbody tr th {\n        vertical-align: top;\n    }\n\n    .dataframe thead th {\n        text-align: right;\n    }\n</style>\n<table border=\"1\" class=\"dataframe\">\n  <thead>\n    <tr style=\"text-align: right;\">\n      <th></th>\n      <th>open</th>\n      <th>close</th>\n    </tr>\n  </thead>\n  <tbody>\n    <tr>\n      <th>2013-09-27</th>\n      <td>535.8</td>\n      <td>546.6</td>\n    </tr>\n    <tr>\n      <th>2013-09-30</th>\n      <td>545.0</td>\n      <td>555.0</td>\n    </tr>\n    <tr>\n      <th>2013-10-08</th>\n      <td>555.0</td>\n      <td>547.4</td>\n    </tr>\n    <tr>\n      <th>2013-10-09</th>\n      <td>546.4</td>\n      <td>547.0</td>\n    </tr>\n    <tr>\n      <th>2013-10-10</th>\n      <td>545.6</td>\n      <td>547.4</td>\n    </tr>\n    <tr>\n      <th>...</th>\n      <td>...</td>\n      <td>...</td>\n    </tr>\n    <tr>\n      <th>2020-12-14</th>\n      <td>742.2</td>\n      <td>730.2</td>\n    </tr>\n    <tr>\n      <th>2020-12-15</th>\n      <td>730.0</td>\n      <td>721.0</td>\n    </tr>\n    <tr>\n      <th>2020-12-16</th>\n      <td>719.8</td>\n      <td>714.8</td>\n    </tr>\n    <tr>\n      <th>2020-12-17</th>\n      <td>674.8</td>\n      <td>689.8</td>\n    </tr>\n    <tr>\n      <th>2020-12-18</th>\n      <td>693.2</td>\n      <td>707.4</td>\n    </tr>\n  </tbody>\n</table>\n<p>1761 rows × 2 columns</p>\n</div>"
     },
     "metadata": {},
     "execution_count": 33
    }
   ],
   "source": [
    "pd.concat([df1,df2]) "
   ]
  },
  {
   "cell_type": "code",
   "execution_count": null,
   "metadata": {},
   "outputs": [],
   "source": []
  }
 ]
}