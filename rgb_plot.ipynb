{
 "metadata": {
  "language_info": {
   "codemirror_mode": {
    "name": "ipython",
    "version": 3
   },
   "file_extension": ".py",
   "mimetype": "text/x-python",
   "name": "python",
   "nbconvert_exporter": "python",
   "pygments_lexer": "ipython3",
   "version": "3.8.3-final"
  },
  "orig_nbformat": 2,
  "kernelspec": {
   "name": "python38364bitb53b57278dea47a68be6fb9bff699ba7",
   "display_name": "Python 3.8.3 64-bit",
   "language": "python"
  }
 },
 "nbformat": 4,
 "nbformat_minor": 2,
 "cells": [
  {
   "cell_type": "code",
   "execution_count": null,
   "metadata": {},
   "outputs": [],
   "source": [
    "#本程序用于将一张彩色图片分解成BGR的分量显示，灰度图显示，HSV分量显示\n",
    "import cv2  #导入opencv模块\n",
    "import matplotlib.pyplot as plt"
   ]
  },
  {
   "cell_type": "code",
   "execution_count": null,
   "metadata": {},
   "outputs": [],
   "source": [
    "img_bgr_data = cv2.imread('D:\\\\cut\\\\chair.png')\n",
    "plt.figure(figsize=(15, 5)) #设置画布的大小"
   ]
  },
  {
   "cell_type": "code",
   "execution_count": null,
   "metadata": {},
   "outputs": [],
   "source": [
    "# B通道 直方图\n",
    "ax1 = plt.subplot(133)\n",
    "ax1.set_xlim([1,255])\n",
    "ax1.set_ylim([0,80])\n",
    "blue = img_bgr_data[:, :, 0].ravel()\n",
    "ax1.hist(blue, color='b', bins=256)\n",
    "# G通道 直方图\n",
    "ax2 = plt.subplot(132)\n",
    "ax2.set_xlim([0,255])\n",
    "green = img_bgr_data[:, :, 1].ravel()\n",
    "ax2.hist(green, color='g', bins=256)\n",
    "# R通道 直方图\n",
    "ax3 = plt.subplot(131)\n",
    "ax3.set_xlim([0,255])\n",
    "red = img_bgr_data[:, :, 2].ravel()\n",
    "ax3.hist(red, color='r', bins=256)"
   ]
  },
  {
   "cell_type": "code",
   "execution_count": null,
   "metadata": {},
   "outputs": [],
   "source": [
    "# 彩色图像直方图\n",
    "img_bgr_data = cv2.imread('D:\\\\cut\\\\dm.png')\n",
    "plt.figure(figsize=(15, 5)) #设置画布的大小\n",
    "# B通道 直方图\n",
    "ax1 = plt.subplot(133)\n",
    "ax1.set_xlim([90, 170])\n",
    "blue = img_bgr_data[:, :, 0].ravel()\n",
    "ax1.hist(blue, color='b', bins=256)\n",
    "# G通道 直方图\n",
    "ax2 = plt.subplot(132)\n",
    "ax2.set_xlim([90, 170])\n",
    "green = img_bgr_data[:, :, 1].ravel()\n",
    "ax2.hist(green, color='g', bins=256)\n",
    "# R通道 直方图\n",
    "ax3 = plt.subplot(131)\n",
    "ax3.set_xlim([90, 170])\n",
    "#ax3.set_title(\"R分量\", fontproperties=\"SimSun\")\n",
    "red = img_bgr_data[:, :, 2].ravel()\n",
    "ax3.hist(red, color='r', bins=256)"
   ]
  },
  {
   "cell_type": "code",
   "execution_count": null,
   "metadata": {},
   "outputs": [],
   "source": []
  }
 ]
}